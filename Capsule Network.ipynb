{
 "cells": [
  {
   "cell_type": "markdown",
   "metadata": {},
   "source": [
    "# Capsule Networks"
   ]
  },
  {
   "cell_type": "markdown",
   "metadata": {},
   "source": [
    "To understand intuition behind capsule networks follow these blogs: \n",
    "1. [Capsule Networks](https://theailearner.com/2019/01/21/capsule-networks/)\n",
    "2. [Implementing Capsule Network in Keras](https://theailearner.com/2019/01/21/implementing-capsule-network-in-keras/)"
   ]
  },
  {
   "cell_type": "markdown",
   "metadata": {},
   "source": [
    "## Introduction"
   ]
  },
  {
   "cell_type": "markdown",
   "metadata": {},
   "source": [
    "A capsule is a group of neurons which uses vectors to represent an object or object part. Length of a vector represents presence of an object and orientation of vector represents its pose(size, position, orientation, etc). Group of these capsules forms a capsule layer and then these layers lead to form a capsule network.\n",
    "\n",
    "We can break the implementation of capsule network into following steps:\n",
    "\n",
    "1. Initial convolutional layer\n",
    "2. Primary capsule layer\n",
    "3. Digit capsule layer\n",
    "4. Decoder network\n",
    "5. Loss Functions\n",
    "6. Training and testing of model"
   ]
  },
  {
   "cell_type": "markdown",
   "metadata": {},
   "source": [
    "### Imports"
   ]
  },
  {
   "cell_type": "code",
   "execution_count": 1,
   "metadata": {},
   "outputs": [
    {
     "name": "stderr",
     "output_type": "stream",
     "text": [
      "Using TensorFlow backend.\n"
     ]
    }
   ],
   "source": [
    "import keras\n",
    "from keras.models import Model\n",
    "from keras.layers import Conv2D, Dense, Input, Reshape, Lambda, Layer, Flatten\n",
    "from keras import backend as K\n",
    "import matplotlib.pyplot as plt\n",
    "import numpy as np\n",
    "from keras.datasets import mnist\n",
    "import tensorflow as tf\n",
    "from keras import initializers\n",
    "from keras.utils import to_categorical\n",
    "from keras.layers.core import Activation"
   ]
  },
  {
   "cell_type": "markdown",
   "metadata": {},
   "source": [
    "### Load MNIST Data"
   ]
  },
  {
   "cell_type": "code",
   "execution_count": 2,
   "metadata": {},
   "outputs": [
    {
     "data": {
      "image/png": "[encoded data removed]",
      "text/plain": [
       "<Figure size 720x216 with 5 Axes>"
      ]
     },
     "metadata": {
      "needs_background": "light"
     },
     "output_type": "display_data"
    }
   ],
   "source": [
    "# download training and test data from mnist and reshape it\n",
    "\n",
    "(x_train, y_orig_train), (x_test, y_orig_test) = mnist.load_data()\n",
    "x_train = x_train.astype('float32') / 255.\n",
    "x_train = x_train.reshape(-1,28,28,1)\n",
    "y_train = np.array(to_categorical(y_orig_train.astype('float32')))\n",
    "\n",
    "x_test = x_test.astype('float32') / 255.\n",
    "x_test = x_test.reshape(-1,28,28,1)\n",
    "y_test = np.array(to_categorical(y_orig_test.astype('float32')))\n",
    "\n",
    "x_output = x_train.reshape(-1,784)\n",
    "X_valid_output = x_test.reshape(-1,784)\n",
    "\n",
    "n_samples = 5\n",
    "\n",
    "plt.figure(figsize=(n_samples * 2, 3))\n",
    "for index in range(n_samples):\n",
    "    plt.subplot(1, n_samples, index + 1)\n",
    "    sample_image = x_test[index].reshape(28, 28)\n",
    "    plt.imshow(sample_image, cmap=\"binary\")\n",
    "    plt.title(\"Label:\" + str(y_orig_test[index]))\n",
    "    plt.axis(\"off\")\n",
    "\n",
    "plt.show()"
   ]
  },
  {
   "cell_type": "markdown",
   "metadata": {},
   "source": [
    "### Initial Convolution Layer"
   ]
  },
  {
   "cell_type": "markdown",
   "metadata": {},
   "source": [
    "Initially we will use a convolution layer to detect low level features of an image. It will use 256 filters each of size 9x9 with stride 1 and activation function is relu. Input size of image is 28x28, after applying this layer output size will be 20x20x256."
   ]
  },
  {
   "cell_type": "code",
   "execution_count": 3,
   "metadata": {},
   "outputs": [],
   "source": [
    "input_shape = Input(shape=(28,28,1))  # size of input image is 28*28\n",
    " \n",
    "# a convolution layer output shape = 20*20*256\n",
    "conv1 = Conv2D(256, (9,9), activation = 'relu', padding = 'valid')(input_shape)"
   ]
  },
  {
   "cell_type": "markdown",
   "metadata": {},
   "source": [
    "### Primary Capsule Layer"
   ]
  },
  {
   "cell_type": "markdown",
   "metadata": {},
   "source": [
    "The output from the previous layer is being passed to 256 filters each of size 9x9 with a stride of 2 which will produce an output of size 6x6x256. This output is then reshaped into 8-dimensional vector. So shape will be 6x6x32 capsules each of which will be 8-dimensional. Then it will pass through a non-linear function(squash) so that length of output vector can be maintained between 0 and 1."
   ]
  },
  {
   "cell_type": "code",
   "execution_count": 4,
   "metadata": {},
   "outputs": [
    {
     "name": "stdout",
     "output_type": "stream",
     "text": [
      "WARNING:tensorflow:From C:\\Users\\atulkrishna.s\\AppData\\Local\\Continuum\\anaconda3\\envs\\py3\\lib\\site-packages\\keras\\backend\\tensorflow_backend.py:1188: calling reduce_sum (from tensorflow.python.ops.math_ops) with keep_dims is deprecated and will be removed in a future version.\n",
      "Instructions for updating:\n",
      "keep_dims is deprecated, use keepdims instead\n"
     ]
    }
   ],
   "source": [
    "# convolution layer with stride 2 and 256 filters of size 9*9\n",
    "conv2 = Conv2D(256, (9,9), strides = 2, padding = 'valid')(conv1)\n",
    " \n",
    "# reshape into 1152 capsules of 8 dimensional vectors\n",
    "reshaped = Reshape((6*6*32,8))(conv2)\n",
    " \n",
    "def squash(inputs):\n",
    "    # take norm of input vectors\n",
    "    squared_norm = K.sum(K.square(inputs), axis = -1, keepdims = True)\n",
    " \n",
    "    # use the formula for non-linear function to return squashed output\n",
    "    return ((squared_norm/(1+squared_norm))/(K.sqrt(squared_norm+K.epsilon())))*inputs\n",
    "\n",
    "# squash the reshaped output to make length of vector b/w 0 and 1\n",
    "squashed_output = Lambda(squash)(reshaped)"
   ]
  },
  {
   "cell_type": "markdown",
   "metadata": {},
   "source": [
    "### Digit Capsule Layer"
   ]
  },
  {
   "cell_type": "markdown",
   "metadata": {},
   "source": [
    "Here we need to write a custom layer in keras. It will take 1152x8 as its input and produces output of size 10x16, where 10 capsules each represents an output class with 16 dimensional vector. Then each of these 10 capsules are converted into single value to predict the output class using a lambda layer."
   ]
  },
  {
   "cell_type": "code",
   "execution_count": 5,
   "metadata": {},
   "outputs": [
    {
     "name": "stdout",
     "output_type": "stream",
     "text": [
      "WARNING:tensorflow:From <ipython-input-5-f40546104ae3>:21: calling softmax (from tensorflow.python.ops.nn_ops) with dim is deprecated and will be removed in a future version.\n",
      "Instructions for updating:\n",
      "dim is deprecated, use axis instead\n"
     ]
    }
   ],
   "source": [
    "class DigitCapsuleLayer(Layer):\n",
    "    # creating a layer class in keras\n",
    "    def __init__(self, **kwargs):\n",
    "        super(DigitCapsuleLayer, self).__init__(**kwargs)\n",
    "        self.kernel_initializer = initializers.get('glorot_uniform')\n",
    "    \n",
    "    def build(self, input_shape): \n",
    "        # initialize weight matrix for each capsule in lower layer\n",
    "        self.W = self.add_weight(shape = [10, 6*6*32, 16, 8], initializer = self.kernel_initializer, name = 'weights')\n",
    "        self.built = True\n",
    "    \n",
    "    def call(self, inputs):\n",
    "        inputs = K.expand_dims(inputs, 1)\n",
    "        inputs = K.tile(inputs, [1, 10, 1, 1])\n",
    "        # matrix multiplication b/w previous layer output and weight matrix\n",
    "        inputs = K.map_fn(lambda x: K.batch_dot(x, self.W, [2, 3]), elems=inputs)\n",
    "        b = tf.zeros(shape = [K.shape(inputs)[0], 10, 6*6*32])\n",
    "        \n",
    "# routing algorithm with updating coupling coefficient c, using scalar product b/w input capsule and output capsule\n",
    "        for i in range(3-1):\n",
    "            c = tf.nn.softmax(b, dim=1)\n",
    "            s = K.batch_dot(c, inputs, [2, 2])\n",
    "            v = squash(s)\n",
    "            b = b + K.batch_dot(v, inputs, [2,3])\n",
    "            \n",
    "        return v \n",
    "    def compute_output_shape(self, input_shape):\n",
    "        return tuple([None, 10, 16])\n",
    "    \n",
    "    \n",
    "    \n",
    "def output_layer(inputs):\n",
    "    return K.sqrt(K.sum(K.square(inputs), -1) + K.epsilon())\n",
    " \n",
    "digit_caps = DigitCapsuleLayer()(squashed_output)\n",
    "outputs = Lambda(output_layer)(digit_caps)"
   ]
  },
  {
   "cell_type": "markdown",
   "metadata": {},
   "source": [
    "### Decoder Network"
   ]
  },
  {
   "cell_type": "markdown",
   "metadata": {},
   "source": [
    "To further boost the pose parameters learned by the digit capsule layer, we can add decoder network to reconstruct the input image. In this part, decoder network will be fed with an input of size 10x16 (digit capsule layer output) and will reconstruct back the original image of size 28x28. Decoder will consist of 3 dense layer having 512, 1024 and 784 nodes.\n",
    "\n",
    "During training time input to the decoder is the output from digit capsule layer which is masked with original labels. It means that other vectors except the vector corresponding to correct label will be multiplied with zero. So that decoder can only be trained with correct digit capsule. In test time input to decoder will be the same output from digit capsule layer but masked with highest length vector in that layer. Lets see the code."
   ]
  },
  {
   "cell_type": "code",
   "execution_count": 6,
   "metadata": {},
   "outputs": [
    {
     "name": "stdout",
     "output_type": "stream",
     "text": [
      "WARNING:tensorflow:From C:\\Users\\atulkrishna.s\\AppData\\Local\\Continuum\\anaconda3\\envs\\py3\\lib\\site-packages\\keras\\backend\\tensorflow_backend.py:1205: calling reduce_prod (from tensorflow.python.ops.math_ops) with keep_dims is deprecated and will be removed in a future version.\n",
      "Instructions for updating:\n",
      "keep_dims is deprecated, use keepdims instead\n"
     ]
    }
   ],
   "source": [
    "def mask(outputs):\n",
    " \n",
    "    if type(outputs) != list:  # mask at test time\n",
    "        norm_outputs = K.sqrt(K.sum(K.square(outputs), -1) + K.epsilon())\n",
    "        y  = K.one_hot(indices=K.argmax(norm_outputs, 1), num_classes = 10)\n",
    "        y = Reshape((10,1))(y)\n",
    "        return Flatten()(y*outputs)\n",
    " \n",
    "    else:    # mask at train time\n",
    "        y = Reshape((10,1))(outputs[1])\n",
    "        masked_output = y*outputs[0]\n",
    "        return Flatten()(masked_output)\n",
    "    \n",
    "inputs = Input(shape = (10,))\n",
    "masked = Lambda(mask)([digit_caps, inputs])\n",
    "masked_for_test = Lambda(mask)(digit_caps)\n",
    " \n",
    "decoded_inputs = Input(shape = (16*10,))\n",
    "dense1 = Dense(512, activation = 'relu')(decoded_inputs)\n",
    "dense2 = Dense(1024, activation = 'relu')(dense1)\n",
    "decoded_outputs = Dense(784, activation = 'sigmoid')(dense2)\n",
    "decoded_outputs = Reshape((28,28,1))(decoded_outputs)"
   ]
  },
  {
   "cell_type": "markdown",
   "metadata": {},
   "source": [
    "### Loss Functions"
   ]
  },
  {
   "cell_type": "markdown",
   "metadata": {},
   "source": [
    "Now define a probabilistic loss function used for classifying digits image."
   ]
  },
  {
   "cell_type": "code",
   "execution_count": 7,
   "metadata": {},
   "outputs": [],
   "source": [
    "def loss_fn(y_true, y_pred):\n",
    " \n",
    "    L = y_true * K.square(K.maximum(0., 0.9 - y_pred)) + 0.5 * (1 - y_true) * K.square(K.maximum(0., y_pred - 0.1))\n",
    " \n",
    "    return K.mean(K.sum(L, 1))"
   ]
  },
  {
   "cell_type": "markdown",
   "metadata": {},
   "source": [
    "### Training of model"
   ]
  },
  {
   "cell_type": "code",
   "execution_count": 8,
   "metadata": {},
   "outputs": [
    {
     "name": "stdout",
     "output_type": "stream",
     "text": [
      "WARNING:tensorflow:From C:\\Users\\atulkrishna.s\\AppData\\Local\\Continuum\\anaconda3\\envs\\py3\\lib\\site-packages\\keras\\backend\\tensorflow_backend.py:1290: calling reduce_mean (from tensorflow.python.ops.math_ops) with keep_dims is deprecated and will be removed in a future version.\n",
      "Instructions for updating:\n",
      "keep_dims is deprecated, use keepdims instead\n",
      "Train on 60000 samples, validate on 10000 samples\n",
      "Epoch 1/10\n",
      "60000/60000 [==============================] - 1364s - loss: 0.1678 - lambda_2_loss: 0.1678 - model_1_loss: 0.0869 - lambda_2_acc: 0.8238 - model_1_acc: 0.7991 - val_loss: 0.0248 - val_lambda_2_loss: 0.0247 - val_model_1_loss: 0.0547 - val_lambda_2_acc: 0.9833 - val_model_1_acc: 0.7963\n",
      "Epoch 2/10\n",
      "60000/60000 [==============================] - 1357s - loss: 0.0211 - lambda_2_loss: 0.0211 - model_1_loss: 0.0537 - lambda_2_acc: 0.9862 - model_1_acc: 0.7945 - val_loss: 0.0172 - val_lambda_2_loss: 0.0172 - val_model_1_loss: 0.0528 - val_lambda_2_acc: 0.9882 - val_model_1_acc: 0.7926\n",
      "Epoch 3/10\n",
      "60000/60000 [==============================] - 1356s - loss: 0.0150 - lambda_2_loss: 0.0150 - model_1_loss: 0.0532 - lambda_2_acc: 0.9907 - model_1_acc: 0.7939 - val_loss: 0.0153 - val_lambda_2_loss: 0.0153 - val_model_1_loss: 0.0528 - val_lambda_2_acc: 0.9885 - val_model_1_acc: 0.7930\n",
      "Epoch 4/10\n",
      "60000/60000 [==============================] - 1357s - loss: 0.0117 - lambda_2_loss: 0.0117 - model_1_loss: 0.0532 - lambda_2_acc: 0.9924 - model_1_acc: 0.7940 - val_loss: 0.0115 - val_lambda_2_loss: 0.0115 - val_model_1_loss: 0.0527 - val_lambda_2_acc: 0.9915 - val_model_1_acc: 0.7928\n",
      "Epoch 5/10\n",
      "60000/60000 [==============================] - 1358s - loss: 0.0090 - lambda_2_loss: 0.0089 - model_1_loss: 0.0531 - lambda_2_acc: 0.9950 - model_1_acc: 0.7939 - val_loss: 0.0103 - val_lambda_2_loss: 0.0103 - val_model_1_loss: 0.0527 - val_lambda_2_acc: 0.9918 - val_model_1_acc: 0.7947\n",
      "Epoch 6/10\n",
      "60000/60000 [==============================] - 1361s - loss: 0.0072 - lambda_2_loss: 0.0072 - model_1_loss: 0.0531 - lambda_2_acc: 0.9958 - model_1_acc: 0.7939 - val_loss: 0.0102 - val_lambda_2_loss: 0.0102 - val_model_1_loss: 0.0526 - val_lambda_2_acc: 0.9908 - val_model_1_acc: 0.7937\n",
      "Epoch 7/10\n",
      "60000/60000 [==============================] - 2070s - loss: 0.0055 - lambda_2_loss: 0.0055 - model_1_loss: 0.0531 - lambda_2_acc: 0.9969 - model_1_acc: 0.7939 - val_loss: 0.0108 - val_lambda_2_loss: 0.0107 - val_model_1_loss: 0.0526 - val_lambda_2_acc: 0.9915 - val_model_1_acc: 0.7934\n",
      "Epoch 8/10\n",
      "60000/60000 [==============================] - 2705s - loss: 0.0047 - lambda_2_loss: 0.0047 - model_1_loss: 0.0531 - lambda_2_acc: 0.9978 - model_1_acc: 0.7939 - val_loss: 0.0105 - val_lambda_2_loss: 0.0105 - val_model_1_loss: 0.0528 - val_lambda_2_acc: 0.9907 - val_model_1_acc: 0.7927\n",
      "Epoch 9/10\n",
      "60000/60000 [==============================] - 2854s - loss: 0.0033 - lambda_2_loss: 0.0032 - model_1_loss: 0.0531 - lambda_2_acc: 0.9987 - model_1_acc: 0.7939 - val_loss: 0.0094 - val_lambda_2_loss: 0.0094 - val_model_1_loss: 0.0527 - val_lambda_2_acc: 0.9916 - val_model_1_acc: 0.7934\n",
      "Epoch 10/10\n",
      "60000/60000 [==============================] - 1361s - loss: 0.0026 - lambda_2_loss: 0.0025 - model_1_loss: 0.0531 - lambda_2_acc: 0.9992 - model_1_acc: 0.7939 - val_loss: 0.0104 - val_lambda_2_loss: 0.0104 - val_model_1_loss: 0.0527 - val_lambda_2_acc: 0.9912 - val_model_1_acc: 0.7924\n"
     ]
    },
    {
     "data": {
      "text/plain": [
       "<keras.callbacks.History at 0x1d4f85fda20>"
      ]
     },
     "execution_count": 8,
     "metadata": {},
     "output_type": "execute_result"
    }
   ],
   "source": [
    "decoder = Model(decoded_inputs, decoded_outputs)\n",
    "model = Model([input_shape,inputs],[outputs,decoder(masked)])\n",
    "test_model = Model(input_shape,[outputs,decoder(masked_for_test)])\n",
    " \n",
    "m = 128\n",
    "epochs = 10\n",
    "model.compile(optimizer=keras.optimizers.Adam(lr=0.001),loss=[loss_fn,'mse'],loss_weights = [1. ,0.0005],metrics=['accuracy'])\n",
    "model.fit([x_train, y_train],[y_train,x_train], batch_size = m, epochs = epochs, validation_data = ([x_test, y_test],[y_test,x_test]))\n",
    " "
   ]
  },
  {
   "cell_type": "markdown",
   "metadata": {},
   "source": [
    "### Predict from above trained model"
   ]
  },
  {
   "cell_type": "code",
   "execution_count": 13,
   "metadata": {},
   "outputs": [],
   "source": [
    "label_predicted, image_predicted = model.predict([x_test, y_test])"
   ]
  },
  {
   "cell_type": "markdown",
   "metadata": {},
   "source": [
    "### Testing of model"
   ]
  },
  {
   "cell_type": "code",
   "execution_count": 14,
   "metadata": {},
   "outputs": [
    {
     "data": {
      "image/png": "[encoded data removed]",
      "text/plain": [
       "<Figure size 720x216 with 5 Axes>"
      ]
     },
     "metadata": {
      "needs_background": "light"
     },
     "output_type": "display_data"
    },
    {
     "data": {
      "image/png": "[encoded data removed]",
      "text/plain": [
       "<Figure size 720x216 with 5 Axes>"
      ]
     },
     "metadata": {
      "needs_background": "light"
     },
     "output_type": "display_data"
    }
   ],
   "source": [
    "n_samples = 5\n",
    "\n",
    "plt.figure(figsize=(n_samples * 2, 3))\n",
    "for index in range(n_samples):\n",
    "    plt.subplot(1, n_samples, index + 1)\n",
    "    sample_image = x_test[index].reshape(28, 28)\n",
    "    plt.imshow(sample_image, cmap=\"binary\")\n",
    "    plt.title(\"Label:\" + str(y_orig_test[index]))\n",
    "    plt.axis(\"off\")\n",
    "\n",
    "plt.show()\n",
    "\n",
    "plt.figure(figsize=(n_samples * 2, 3))\n",
    "for index in range(n_samples):\n",
    "    plt.subplot(1, n_samples, index + 1)\n",
    "    sample_image = image_predicted[index].reshape(28, 28)\n",
    "    plt.imshow(sample_image, cmap=\"binary\")\n",
    "    plt.title(\"Predicted:\" + str(np.argmax(label_predicted[index])))\n",
    "    plt.axis(\"off\")\n",
    "\n",
    "plt.show()"
   ]
  },
  {
   "cell_type": "code",
   "execution_count": null,
   "metadata": {},
   "outputs": [],
   "source": []
  }
 ],
 "metadata": {
  "kernelspec": {
   "display_name": "Python 3",
   "language": "python",
   "name": "python3"
  },
  "language_info": {
   "codemirror_mode": {
    "name": "ipython",
    "version": 3
   },
   "file_extension": ".py",
   "mimetype": "text/x-python",
   "name": "python",
   "nbconvert_exporter": "python",
   "pygments_lexer": "ipython3",
   "version": "3.6.8"
  }
 },
 "nbformat": 4,
 "nbformat_minor": 2
}
